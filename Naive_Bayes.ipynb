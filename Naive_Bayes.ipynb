{
 "cells": [
  {
   "cell_type": "markdown",
   "metadata": {},
   "source": [
    "# Implementing Naive Bayes algorithm to classify spam/non-spam emails"
   ]
  },
  {
   "cell_type": "code",
   "execution_count": 2,
   "metadata": {},
   "outputs": [],
   "source": [
    "import numpy as np\n",
    "import pandas as pd\n",
    "import matplotlib.pyplot as plt\n",
    "from scipy.stats import poisson"
   ]
  },
  {
   "cell_type": "code",
   "execution_count": 3,
   "metadata": {},
   "outputs": [],
   "source": [
    "X = pd.read_csv('data/X.csv',header=None)\n",
    "y = pd.read_csv('data/y.csv',header=None)"
   ]
  },
  {
   "cell_type": "code",
   "execution_count": 4,
   "metadata": {},
   "outputs": [],
   "source": [
    "y.columns = ['y']"
   ]
  },
  {
   "cell_type": "code",
   "execution_count": 5,
   "metadata": {},
   "outputs": [],
   "source": [
    "data = pd.concat([X,y],axis=1)"
   ]
  },
  {
   "cell_type": "code",
   "execution_count": 6,
   "metadata": {},
   "outputs": [
    {
     "data": {
      "text/plain": [
       "False"
      ]
     },
     "execution_count": 6,
     "metadata": {},
     "output_type": "execute_result"
    }
   ],
   "source": [
    "data.isnull().values.any()"
   ]
  },
  {
   "cell_type": "code",
   "execution_count": 7,
   "metadata": {},
   "outputs": [],
   "source": [
    "s_data = data.sample(frac=1).reset_index(drop=True)"
   ]
  },
  {
   "cell_type": "code",
   "execution_count": 8,
   "metadata": {},
   "outputs": [
    {
     "data": {
      "text/plain": [
       "False"
      ]
     },
     "execution_count": 8,
     "metadata": {},
     "output_type": "execute_result"
    }
   ],
   "source": [
    "s_data.isnull().values.any()"
   ]
  },
  {
   "cell_type": "code",
   "execution_count": 9,
   "metadata": {},
   "outputs": [],
   "source": [
    "cv_groups = []\n",
    "s = 0\n",
    "for i in range(1,11):\n",
    "    e = s + 460\n",
    "    inter = s_data.iloc[s:e,:]\n",
    "    cv_groups.append(inter)\n",
    "    s = e"
   ]
  },
  {
   "cell_type": "code",
   "execution_count": 10,
   "metadata": {},
   "outputs": [],
   "source": [
    "import math\n",
    "\n",
    "def bayes(c_matrix):\n",
    "    \n",
    "    l0_54 = []\n",
    "    l1_54 = []\n",
    "\n",
    "    for i in range(0,10):\n",
    "        cv_g = cv_groups.copy()\n",
    "        hold_out = cv_g[i]\n",
    "        del cv_g[i]\n",
    "        train = pd.concat(cv_g)\n",
    "        train.index = range(len(train.index))\n",
    "        ypred = []\n",
    "        test_rows = len(hold_out.index)\n",
    "        train_rows = len(train.index)\n",
    "        \n",
    "        # calculate pi\n",
    "        pi_1 = math.log(train.iloc[:,-1].sum()/len(train.index))\n",
    "        pi_0 = math.log(1 - pi_1)\n",
    "        \n",
    "        y_test = hold_out.iloc[:,-1]\n",
    "        hold_out = hold_out.iloc[:,:-1]\n",
    "        \n",
    "        # calculate the sum of xi over each dimension for y=0,1\n",
    "        cols = []\n",
    "        for i in range(0,54):\n",
    "            cols.append(i)\n",
    "        train.groupby(['y'])[cols].sum()\n",
    "        x0d = train.groupby(['y'])[cols].sum().loc[0.0]\n",
    "        x1d = train.groupby(['y'])[cols].sum().loc[1.0]\n",
    "\n",
    "        # calculate lambda for each dimension for y = 0,1\n",
    "        l0 = []\n",
    "        l1 = []\n",
    "        for i in range(0,54):\n",
    "            l0.append((1 + x0d[i])/(1 + train.groupby(['y'])['y'].count()[0]))\n",
    "            l1.append((1 + x1d[i])/(1 + train.groupby(['y'])['y'].count()[1]))\n",
    "        \n",
    "        # append l0 and l1 to the respective parent lists\n",
    "        l0_54.append(l0)\n",
    "        l1_54.append(l1)\n",
    "        \n",
    "        # iterate through every test data point\n",
    "        for hind, hrow in hold_out.iterrows():\n",
    "            poisson_0 = 0\n",
    "            poisson_1 = 0\n",
    "            \n",
    "            # iterate through every dimension of a data point\n",
    "            for index, element in hrow.iteritems():\n",
    "                \n",
    "                  poisson_0 = poisson_0 -l0[index] + (element * math.log(l0[index]))\n",
    "                  poisson_1 = poisson_1 -l1[index] + (element * math.log(l1[index]))\n",
    "            \n",
    "            # check the one that has highest probability and predict y\n",
    "            y0 = pi_0 + (poisson_0)\n",
    "            y1 = pi_1 + (poisson_1)\n",
    "\n",
    "            if (y0 > y1):\n",
    "                ypred.append(0)\n",
    "            else:\n",
    "                ypred.append(1)\n",
    "        \n",
    "        # find model accuracy\n",
    "        tp = 0\n",
    "        tn = 0\n",
    "        fp = 0\n",
    "        fn = 0\n",
    "        \n",
    "        for u,v in zip(list(y_test),ypred):\n",
    "            \n",
    "            if (int(u)==v==0):\n",
    "                tn += 1\n",
    "            if (int(u)==v==1):\n",
    "                tp += 1\n",
    "            if ((int(u) == 0) & (v == 1)):\n",
    "                fp += 1\n",
    "            if ((int(u) == 1) & (v == 0)):\n",
    "                fn += 1\n",
    "\n",
    "        c_matrix_inter = np.array([[tp, fp],[fn, tn]])\n",
    "        c_matrix = np.add(c_matrix, c_matrix_inter)\n",
    "    return c_matrix, l0_54, l1_54\n",
    "\n",
    "c_matrix_init = np.array([[0,0],[0,0]])\n",
    "c_matrix, l0_54, l1_54 = bayes(c_matrix_init)"
   ]
  },
  {
   "cell_type": "code",
   "execution_count": 11,
   "metadata": {},
   "outputs": [
    {
     "name": "stdout",
     "output_type": "stream",
     "text": [
      "Confusion matrix\n",
      "[[1709  481]\n",
      " [ 104 2306]]\n"
     ]
    }
   ],
   "source": [
    "print(\"Confusion matrix\")\n",
    "print(c_matrix)"
   ]
  },
  {
   "cell_type": "code",
   "execution_count": 12,
   "metadata": {},
   "outputs": [
    {
     "name": "stdout",
     "output_type": "stream",
     "text": [
      "Accuracy: 87.28260869565217\n"
     ]
    }
   ],
   "source": [
    "accuracy = (c_matrix[0][0] + c_matrix[1][1])/4600\n",
    "print(\"Accuracy: \" + str(accuracy*100))"
   ]
  },
  {
   "cell_type": "code",
   "execution_count": 13,
   "metadata": {},
   "outputs": [],
   "source": [
    "l0_54_df = pd.DataFrame(l0_54)\n",
    "l1_54_df = pd.DataFrame(l1_54)"
   ]
  },
  {
   "cell_type": "code",
   "execution_count": 14,
   "metadata": {},
   "outputs": [
    {
     "data": {
      "text/plain": [
       "Text(0.5, 1.0, 'stem plot of features Vs lambda')"
      ]
     },
     "execution_count": 14,
     "metadata": {},
     "output_type": "execute_result"
    },
    {
     "data": {
      "image/png": "[encoded data removed]",
      "text/plain": [
       "<Figure size 1080x432 with 1 Axes>"
      ]
     },
     "metadata": {
      "needs_background": "light"
     },
     "output_type": "display_data"
    }
   ],
   "source": [
    "l0_54_mean = list(l0_54_df.mean(axis=0))\n",
    "l1_54_mean = list(l1_54_df.mean(axis=0))\n",
    "plt.figure(figsize=(15,6))\n",
    "plt.stem(l0_54_mean,linefmt='-',label='lambda_0')\n",
    "plt.stem(l1_54_mean,linefmt='--',label='lambda_1')\n",
    "plt.legend()\n",
    "plt.xlabel(\"features\")\n",
    "plt.ylabel(\"poisson parameter lambda\")\n",
    "plt.title(\"stem plot of features Vs lambda\")"
   ]
  },
  {
   "cell_type": "markdown",
   "metadata": {},
   "source": [
    "The dashed line in the above plot represents lambda value for spam emails. Solid lines represent nonspam emails. It can be seen that it is significantly more likely to find the words “Free” and “!” in a spammed email rather than non-spam email. Lambda is the mean value of poisson distribution. Each of the above dimensions fall under poisson distribution with means/ rate of occurrence as shown above. "
   ]
  }
 ],
 "metadata": {
  "kernelspec": {
   "display_name": "Python 3",
   "language": "python",
   "name": "python3"
  },
  "language_info": {
   "codemirror_mode": {
    "name": "ipython",
    "version": 3
   },
   "file_extension": ".py",
   "mimetype": "text/x-python",
   "name": "python",
   "nbconvert_exporter": "python",
   "pygments_lexer": "ipython3",
   "version": "3.7.4"
  }
 },
 "nbformat": 4,
 "nbformat_minor": 2
}
