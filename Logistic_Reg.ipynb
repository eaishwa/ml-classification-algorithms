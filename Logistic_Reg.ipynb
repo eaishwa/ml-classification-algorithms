{
 "cells": [
  {
   "cell_type": "markdown",
   "metadata": {},
   "source": [
    "## Implementing Logistic regression algorithm to classify spam/non-spam emails"
   ]
  },
  {
   "cell_type": "code",
   "execution_count": 1,
   "metadata": {},
   "outputs": [],
   "source": [
    "import numpy as np\n",
    "import pandas as pd\n",
    "import matplotlib.pyplot as plt"
   ]
  },
  {
   "cell_type": "code",
   "execution_count": 2,
   "metadata": {},
   "outputs": [],
   "source": [
    "X = pd.read_csv('data/X.csv',header=None)\n",
    "y = pd.read_csv('data/y.csv',header=None)"
   ]
  },
  {
   "cell_type": "code",
   "execution_count": 3,
   "metadata": {},
   "outputs": [],
   "source": [
    "y.columns = ['y']\n",
    "y['y'] = y['y'].map({0 : -1, 1 : 1})"
   ]
  },
  {
   "cell_type": "code",
   "execution_count": 4,
   "metadata": {},
   "outputs": [],
   "source": [
    "data = pd.concat([X,y],axis=1)"
   ]
  },
  {
   "cell_type": "code",
   "execution_count": 5,
   "metadata": {},
   "outputs": [
    {
     "data": {
      "text/plain": [
       "False"
      ]
     },
     "execution_count": 5,
     "metadata": {},
     "output_type": "execute_result"
    }
   ],
   "source": [
    "data.isnull().values.any()"
   ]
  },
  {
   "cell_type": "code",
   "execution_count": 6,
   "metadata": {},
   "outputs": [],
   "source": [
    "s_data = data.sample(frac=1).reset_index(drop=True)"
   ]
  },
  {
   "cell_type": "code",
   "execution_count": 7,
   "metadata": {},
   "outputs": [
    {
     "data": {
      "text/plain": [
       "False"
      ]
     },
     "execution_count": 7,
     "metadata": {},
     "output_type": "execute_result"
    }
   ],
   "source": [
    "s_data.isnull().values.any()"
   ]
  },
  {
   "cell_type": "code",
   "execution_count": 8,
   "metadata": {},
   "outputs": [],
   "source": [
    "cv_groups = []\n",
    "s = 0\n",
    "for i in range(1,11):\n",
    "    e = s + 460\n",
    "    inter = s_data.iloc[s:e,:]\n",
    "    cv_groups.append(inter)\n",
    "    s = e"
   ]
  },
  {
   "cell_type": "markdown",
   "metadata": {},
   "source": [
    "Steepest Ascent - Logistic Regression"
   ]
  },
  {
   "cell_type": "code",
   "execution_count": 9,
   "metadata": {},
   "outputs": [],
   "source": [
    "def get_sigmoid(y,x,w):\n",
    "    xtw = np.matmul(x,np.transpose(w))\n",
    "    exp = np.exp(np.multiply(y,xtw))\n",
    "    sig = exp/(1+exp)\n",
    "    return sig"
   ]
  },
  {
   "cell_type": "code",
   "execution_count": 10,
   "metadata": {},
   "outputs": [],
   "source": [
    "import math\n",
    "parent_obj = []\n",
    "for i in range(0,10):\n",
    "    cv_g = cv_groups.copy()\n",
    "    hold_out = cv_g[i]\n",
    "    del cv_g[i]\n",
    "    train = pd.concat(cv_g)\n",
    "    train.index = range(len(train.index))\n",
    "    y_train = train.iloc[:,-1]\n",
    "    train = train.iloc[:,:-1]\n",
    "    train['intercept'] = 1\n",
    "    ypred = []\n",
    "    w = np.matrix(np.full(len(train.columns),0))\n",
    "    train = np.matrix(train)\n",
    "    y_train = np.transpose(np.matrix(y_train))\n",
    "    obj = []\n",
    "    for t in range(0,1000):\n",
    "        sig = get_sigmoid(y_train,train,w)\n",
    "        yx = np.multiply(y_train,train)\n",
    "        s = np.sum(np.multiply((1-sig),yx),axis=0)\n",
    "        term = np.multiply((0.01/4600),s)\n",
    "        w = np.add(w, term)\n",
    "        \n",
    "        obj.append(np.sum(np.log(get_sigmoid(y_train,train,w))))\n",
    "    parent_obj.append(obj)\n",
    "        \n",
    "    \n"
   ]
  },
  {
   "cell_type": "code",
   "execution_count": 11,
   "metadata": {},
   "outputs": [
    {
     "data": {
      "text/plain": [
       "Text(0, 0.5, 'Objective function')"
      ]
     },
     "execution_count": 11,
     "metadata": {},
     "output_type": "execute_result"
    },
    {
     "data": {
      "image/png": "[encoded data removed]",
      "text/plain": [
       "<Figure size 432x360 with 1 Axes>"
      ]
     },
     "metadata": {
      "needs_background": "light"
     },
     "output_type": "display_data"
    }
   ],
   "source": [
    "plt.figure(figsize=(6,5))\n",
    "iteration = 0\n",
    "for i in parent_obj:\n",
    "    plt.plot(i,label='Iteration {}'.format(iteration))\n",
    "    iteration += 1\n",
    "\n",
    "plt.title(\"Convergence of the objective function for steepest ascent algorithm\")\n",
    "plt.legend()\n",
    "plt.xlabel(\"Iterations\")\n",
    "plt.ylabel(\"Objective function\")\n"
   ]
  },
  {
   "cell_type": "code",
   "execution_count": 12,
   "metadata": {},
   "outputs": [],
   "source": [
    "import math\n",
    "parent_obj = []\n",
    "c_matrix = np.array([[0,0],[0,0]])\n",
    "for i in range(0,10):\n",
    "    cv_g = cv_groups.copy()\n",
    "    hold_out = cv_g[i]\n",
    "    y_test = hold_out.iloc[:,-1]\n",
    "    hold_out = hold_out.iloc[:,:-1]\n",
    "    hold_out['intercept']=1\n",
    "    del cv_g[i]\n",
    "    train = pd.concat(cv_g)\n",
    "    train.index = range(len(train.index))\n",
    "    y_train = train.iloc[:,-1]\n",
    "    train = train.iloc[:,:-1]\n",
    "    train['intercept'] = 1\n",
    "    ypred = []\n",
    "    w = np.matrix(np.full(len(train.columns),0))\n",
    "    train = np.matrix(train)\n",
    "    y_train = np.transpose(np.matrix(y_train))\n",
    "    obj = []\n",
    "    for t in range(0,100):\n",
    "        sig = get_sigmoid(y_train,train,w)\n",
    "        sig1 = np.multiply(sig,1-sig)\n",
    "        zero = np.zeros((4140,4140))\n",
    "        np.fill_diagonal(zero,sig1)\n",
    "        xtexp = np.matmul(np.transpose(train),zero)\n",
    "        den = np.matmul(xtexp,train)\n",
    "        np.fill_diagonal(den,np.add(np.diagonal(den),10**-2))\n",
    "        yx = np.multiply(y_train,train)\n",
    "        num = np.sum(np.multiply((1-sig),yx),axis=0)\n",
    "        den = np.linalg.inv(den)\n",
    "        numden = np.matmul(num,den)\n",
    "        w = np.add(w,numden)\n",
    "        obj.append(np.sum(np.log(get_sigmoid(y_train,train,w))))\n",
    "        \n",
    "    parent_obj.append(obj)\n",
    "    for tind, trow in hold_out.iterrows():\n",
    "        if (np.matmul(w,np.transpose(trow))) > 0:\n",
    "            ypred.append(1)   \n",
    "        else:\n",
    "            ypred.append(-1)\n",
    "\n",
    "    # find model accuracy\n",
    "    tp = 0\n",
    "    tn = 0\n",
    "    fp = 0\n",
    "    fn = 0\n",
    "        \n",
    "    for u,v in zip(list(y_test),ypred):\n",
    "\n",
    "        if (int(u)==v==-1):\n",
    "            tn += 1\n",
    "        if (int(u)==v==1):\n",
    "            tp += 1\n",
    "        if ((int(u) == -1) & (v == 1)):\n",
    "            fp += 1\n",
    "        if ((int(u) == 1) & (v == -1)):\n",
    "            fn += 1\n",
    "    c_matrix_inter = np.array([[tp, fp],[fn, tn]])\n",
    "    c_matrix = np.add(c_matrix, c_matrix_inter)\n",
    "    \n",
    "    \n",
    "        "
   ]
  },
  {
   "cell_type": "code",
   "execution_count": 13,
   "metadata": {},
   "outputs": [
    {
     "data": {
      "text/plain": [
       "Text(0, 0.5, 'Objective function')"
      ]
     },
     "execution_count": 13,
     "metadata": {},
     "output_type": "execute_result"
    },
    {
     "data": {
      "image/png": "[encoded data removed]",
      "text/plain": [
       "<Figure size 432x360 with 1 Axes>"
      ]
     },
     "metadata": {
      "needs_background": "light"
     },
     "output_type": "display_data"
    }
   ],
   "source": [
    "plt.figure(figsize=(6,5))\n",
    "iteration = 0\n",
    "for i in parent_obj:\n",
    "    plt.plot(i,label='Iteration {}'.format(iteration))\n",
    "    iteration += 1\n",
    "\n",
    "plt.title(\"Convergence of the objective function for Newton algorithm\")\n",
    "plt.legend()\n",
    "plt.xlabel(\"Iterations\")\n",
    "plt.ylabel(\"Objective function\")"
   ]
  },
  {
   "cell_type": "code",
   "execution_count": 14,
   "metadata": {},
   "outputs": [
    {
     "name": "stdout",
     "output_type": "stream",
     "text": [
      "Confusion matrix\n",
      "[[1603  140]\n",
      " [ 210 2647]]\n"
     ]
    }
   ],
   "source": [
    "print(\"Confusion matrix\")\n",
    "print(c_matrix)"
   ]
  },
  {
   "cell_type": "code",
   "execution_count": 15,
   "metadata": {},
   "outputs": [
    {
     "name": "stdout",
     "output_type": "stream",
     "text": [
      "Accuracy: 92.3913043478261\n"
     ]
    }
   ],
   "source": [
    "accuracy = (c_matrix[0][0] + c_matrix[1][1])/4600\n",
    "print(\"Accuracy: \" + str(accuracy*100))"
   ]
  }
 ],
 "metadata": {
  "kernelspec": {
   "display_name": "Python 3",
   "language": "python",
   "name": "python3"
  },
  "language_info": {
   "codemirror_mode": {
    "name": "ipython",
    "version": 3
   },
   "file_extension": ".py",
   "mimetype": "text/x-python",
   "name": "python",
   "nbconvert_exporter": "python",
   "pygments_lexer": "ipython3",
   "version": "3.7.4"
  }
 },
 "nbformat": 4,
 "nbformat_minor": 2
}
